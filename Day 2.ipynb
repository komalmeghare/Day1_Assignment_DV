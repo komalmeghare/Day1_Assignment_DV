{
 "cells": [
  {
   "cell_type": "markdown",
   "metadata": {},
   "source": [
    "# Assignment-2 (Day 2)"
   ]
  },
  {
   "cell_type": "markdown",
   "metadata": {},
   "source": [
    "### Que 1: Create a dataframe with 10 rows on random numbers and 4 columns, (columns labelled as a,b,c,d) and plot a bar chart."
   ]
  },
  {
   "cell_type": "code",
   "execution_count": 16,
   "metadata": {},
   "outputs": [],
   "source": [
    "import numpy as np\n",
    "import pandas as pd\n",
    "import seaborn as sns\n",
    "\n",
    "import matplotlib as mpl\n",
    "import matplotlib.pyplot as plt\n",
    "%matplotlib inline\n",
    "\n",
    "from numpy.random import randn, randint, uniform, sample"
   ]
  },
  {
   "cell_type": "code",
   "execution_count": 17,
   "metadata": {},
   "outputs": [
    {
     "data": {
      "text/html": [
       "<div>\n",
       "<style scoped>\n",
       "    .dataframe tbody tr th:only-of-type {\n",
       "        vertical-align: middle;\n",
       "    }\n",
       "\n",
       "    .dataframe tbody tr th {\n",
       "        vertical-align: top;\n",
       "    }\n",
       "\n",
       "    .dataframe thead th {\n",
       "        text-align: right;\n",
       "    }\n",
       "</style>\n",
       "<table border=\"1\" class=\"dataframe\">\n",
       "  <thead>\n",
       "    <tr style=\"text-align: right;\">\n",
       "      <th></th>\n",
       "      <th>a</th>\n",
       "      <th>b</th>\n",
       "      <th>c</th>\n",
       "      <th>d</th>\n",
       "    </tr>\n",
       "  </thead>\n",
       "  <tbody>\n",
       "    <tr>\n",
       "      <th>0</th>\n",
       "      <td>0.078042</td>\n",
       "      <td>0.947768</td>\n",
       "      <td>1.402142</td>\n",
       "      <td>-0.139904</td>\n",
       "    </tr>\n",
       "    <tr>\n",
       "      <th>1</th>\n",
       "      <td>-1.802190</td>\n",
       "      <td>-0.094172</td>\n",
       "      <td>0.654588</td>\n",
       "      <td>3.370848</td>\n",
       "    </tr>\n",
       "    <tr>\n",
       "      <th>2</th>\n",
       "      <td>-0.321425</td>\n",
       "      <td>0.404821</td>\n",
       "      <td>1.878517</td>\n",
       "      <td>-1.649773</td>\n",
       "    </tr>\n",
       "    <tr>\n",
       "      <th>3</th>\n",
       "      <td>1.955759</td>\n",
       "      <td>2.330208</td>\n",
       "      <td>-0.734875</td>\n",
       "      <td>0.852867</td>\n",
       "    </tr>\n",
       "    <tr>\n",
       "      <th>4</th>\n",
       "      <td>1.063425</td>\n",
       "      <td>0.598283</td>\n",
       "      <td>-1.533709</td>\n",
       "      <td>-1.081575</td>\n",
       "    </tr>\n",
       "    <tr>\n",
       "      <th>5</th>\n",
       "      <td>0.993481</td>\n",
       "      <td>1.709612</td>\n",
       "      <td>-1.948540</td>\n",
       "      <td>0.263365</td>\n",
       "    </tr>\n",
       "    <tr>\n",
       "      <th>6</th>\n",
       "      <td>1.330460</td>\n",
       "      <td>-0.326162</td>\n",
       "      <td>-0.192200</td>\n",
       "      <td>2.114181</td>\n",
       "    </tr>\n",
       "    <tr>\n",
       "      <th>7</th>\n",
       "      <td>0.249151</td>\n",
       "      <td>1.447020</td>\n",
       "      <td>0.889479</td>\n",
       "      <td>0.203193</td>\n",
       "    </tr>\n",
       "    <tr>\n",
       "      <th>8</th>\n",
       "      <td>-0.599657</td>\n",
       "      <td>0.074698</td>\n",
       "      <td>0.987301</td>\n",
       "      <td>-0.485788</td>\n",
       "    </tr>\n",
       "    <tr>\n",
       "      <th>9</th>\n",
       "      <td>-2.185586</td>\n",
       "      <td>0.528875</td>\n",
       "      <td>-0.363369</td>\n",
       "      <td>0.459861</td>\n",
       "    </tr>\n",
       "  </tbody>\n",
       "</table>\n",
       "</div>"
      ],
      "text/plain": [
       "          a         b         c         d\n",
       "0  0.078042  0.947768  1.402142 -0.139904\n",
       "1 -1.802190 -0.094172  0.654588  3.370848\n",
       "2 -0.321425  0.404821  1.878517 -1.649773\n",
       "3  1.955759  2.330208 -0.734875  0.852867\n",
       "4  1.063425  0.598283 -1.533709 -1.081575\n",
       "5  0.993481  1.709612 -1.948540  0.263365\n",
       "6  1.330460 -0.326162 -0.192200  2.114181\n",
       "7  0.249151  1.447020  0.889479  0.203193\n",
       "8 -0.599657  0.074698  0.987301 -0.485788\n",
       "9 -2.185586  0.528875 -0.363369  0.459861"
      ]
     },
     "execution_count": 17,
     "metadata": {},
     "output_type": "execute_result"
    }
   ],
   "source": [
    "df = pd.DataFrame(randn(10,4), columns = [\"a\",\"b\",\"c\",\"d\"])\n",
    "df"
   ]
  },
  {
   "cell_type": "code",
   "execution_count": 18,
   "metadata": {},
   "outputs": [
    {
     "data": {
      "image/png": "[encoded data removed]",
      "text/plain": [
       "<Figure size 720x576 with 1 Axes>"
      ]
     },
     "metadata": {
      "needs_background": "light"
     },
     "output_type": "display_data"
    }
   ],
   "source": [
    "df.plot(kind=\"bar\", figsize=(10,8), grid=True)\n",
    "plt.title(\"Bar Plot of Random Numbers\", fontsize=15, color='r')\n",
    "plt.xlabel(\"X-axis\", fontsize=13, color='b')\n",
    "plt.ylabel(\"Y-axis\", fontsize=13, color='b')\n",
    "plt.show()"
   ]
  },
  {
   "cell_type": "code",
   "execution_count": null,
   "metadata": {},
   "outputs": [],
   "source": []
  }
 ],
 "metadata": {
  "kernelspec": {
   "display_name": "Python 3",
   "language": "python",
   "name": "python3"
  },
  "language_info": {
   "codemirror_mode": {
    "name": "ipython",
    "version": 3
   },
   "file_extension": ".py",
   "mimetype": "text/x-python",
   "name": "python",
   "nbconvert_exporter": "python",
   "pygments_lexer": "ipython3",
   "version": "3.7.6"
  }
 },
 "nbformat": 4,
 "nbformat_minor": 4
}
